{
 "cells": [
  {
   "cell_type": "markdown",
   "id": "2bb0a837-228b-4cb9-9bd6-0f2b18186c52",
   "metadata": {},
   "source": [
    "# Comparison of Text to Speech Models on Replicate"
   ]
  },
  {
   "cell_type": "code",
   "execution_count": 11,
   "id": "ab106648-3e9b-45d8-b088-a1bc3d66457f",
   "metadata": {},
   "outputs": [
    {
     "name": "stdout",
     "output_type": "stream",
     "text": [
      "Requirement already satisfied: replicate in c:\\users\\digvi\\anaconda3\\lib\\site-packages (0.33.0)\n",
      "Requirement already satisfied: httpx<1,>=0.21.0 in c:\\users\\digvi\\anaconda3\\lib\\site-packages (from replicate) (0.27.2)\n",
      "Requirement already satisfied: packaging in c:\\users\\digvi\\anaconda3\\lib\\site-packages (from replicate) (23.2)\n",
      "Requirement already satisfied: pydantic>1.10.7 in c:\\users\\digvi\\anaconda3\\lib\\site-packages (from replicate) (1.10.12)\n",
      "Requirement already satisfied: typing-extensions>=4.5.0 in c:\\users\\digvi\\anaconda3\\lib\\site-packages (from replicate) (4.12.2)\n",
      "Requirement already satisfied: anyio in c:\\users\\digvi\\anaconda3\\lib\\site-packages (from httpx<1,>=0.21.0->replicate) (4.2.0)\n",
      "Requirement already satisfied: certifi in c:\\users\\digvi\\anaconda3\\lib\\site-packages (from httpx<1,>=0.21.0->replicate) (2024.8.30)\n",
      "Requirement already satisfied: httpcore==1.* in c:\\users\\digvi\\anaconda3\\lib\\site-packages (from httpx<1,>=0.21.0->replicate) (1.0.5)\n",
      "Requirement already satisfied: idna in c:\\users\\digvi\\anaconda3\\lib\\site-packages (from httpx<1,>=0.21.0->replicate) (3.4)\n",
      "Requirement already satisfied: sniffio in c:\\users\\digvi\\anaconda3\\lib\\site-packages (from httpx<1,>=0.21.0->replicate) (1.3.0)\n",
      "Requirement already satisfied: h11<0.15,>=0.13 in c:\\users\\digvi\\anaconda3\\lib\\site-packages (from httpcore==1.*->httpx<1,>=0.21.0->replicate) (0.14.0)\n",
      "Note: you may need to restart the kernel to use updated packages.\n"
     ]
    }
   ],
   "source": [
    "pip install replicate\n"
   ]
  },
  {
   "cell_type": "code",
   "execution_count": 1,
   "id": "45e65f30-28b5-4592-b2b3-8d3e57cfdbd5",
   "metadata": {},
   "outputs": [
    {
     "name": "stdin",
     "output_type": "stream",
     "text": [
      " ········\n"
     ]
    }
   ],
   "source": [
    "import os\n",
    "import getpass\n",
    "\n",
    "os.environ[\"REPLICATE_API_TOKEN\"] = getpass.getpass()"
   ]
  },
  {
   "cell_type": "code",
   "execution_count": 2,
   "id": "1f4a4d1c-cdbf-448c-9cfd-a3f0f77d9e00",
   "metadata": {},
   "outputs": [],
   "source": [
    "import replicate"
   ]
  },
  {
   "cell_type": "code",
   "execution_count": 11,
   "id": "e1c729db-b0cb-48dc-beb3-242439efc2fe",
   "metadata": {},
   "outputs": [],
   "source": [
    "inputs = {\n",
    "    \"en\": \"The stars are shining brightly tonight, casting a magical glow over the quiet world. Can you feel the peace in the air?\",\n",
    "    \"es\": \"Las estrellas brillan intensamente esta noche, llenando el mundo silencioso con un resplandor mágico. ¿Puedes sentir la paz en el aire?\",\n",
    "    \"fr\": \"Les étoiles brillent de mille feux ce soir, illuminant le monde tranquille d'une lueur magique. Sens-tu la paix dans l'air?\",\n",
    "    \"de\": \"Die Sterne leuchten heute Nacht hell und tauchen die stille Welt in einen magischen Glanz. Spürst du die Ruhe in der Luft?\",\n",
    "    \"hi\": \"आज रात तारें चमक रही हैं, जो शांत दुनिया पर एक जादुई चमक बिखेर रही हैं। क्या आपको हवा में शांति महसूस हो रही है?\",\n",
    "    \"zh\": \"今晚星星闪烁，给宁静的世界增添了神秘的光芒。你能感受到空气中的宁静吗？\",\n",
    "    \"ar\": \"النجوم تلمع بشدة الليلة، مما يضفي بريقًا سحريًا على العالم الهادئ. هل تشعر بالسلام في الهواء؟\",\n",
    "    \"ru\": \"Звезды ярко сияют этой ночью, окутывая мир волшебным светом. Ты чувствуешь покой в воздухе?\",\n",
    "    \"ja\": \"今夜、星々が輝き、静かな世界に魔法の光を投げかけています。空気中に平和を感じますか？\",\n",
    "    \"it\": \"Le stelle brillano luminose stanotte, diffondendo una luce magica sul mondo tranquillo. Riesci a sentire la pace nell'aria?\"\n",
    "}\n",
    "\n",
    "speaker_samples = {\n",
    "    \"male\": \"https://replicate.delivery/pbxt/Jt79w0xsT64R1JsiJ0LQRL8UcWspg5J4RFrU6YwEKpOT1ukS/male.wav\",\n",
    "    \"female\": \"https://example.com/path/to/female_voice.wav\",  # Replace with actual female voice URL\n",
    "    # Add more speaker URLs as needed\n",
    "}\n"
   ]
  },
  {
   "cell_type": "markdown",
   "id": "5294568a-4a0f-4a5d-abf6-aa2452fe35fb",
   "metadata": {},
   "source": [
    "# xtts-v2\n",
    "English: en French: fr German: de Spanish: es Italian: it Portuguese: pt Czech: cs Polish: pl Russian: ru Dutch: nl Turksih: tr Arabic: ar Mandarin Chinese: zh-cn Hindi: hi\n",
    "\n",
    "https://replicate.com/lucataco/xtts-v2"
   ]
  },
  {
   "cell_type": "code",
   "execution_count": 4,
   "id": "ee4f67ff-7511-44e5-8bbd-63d35a734abd",
   "metadata": {},
   "outputs": [],
   "source": [
    "# Function to generate TTS based on language and speaker type\n",
    "def generate_tts(text, link, language=\"en\", speaker_type=\"male\", speed=1.0, pitch=1.0):\n",
    "    speaker_url = speaker_samples.get(speaker_type)\n",
    "    \n",
    "    if not speaker_url:\n",
    "        raise ValueError(\"Invalid speaker type. Choose 'male' or 'female'.\")\n",
    "\n",
    "    # Input data for TTS generation\n",
    "    input_data = {\n",
    "        \"speaker\": speaker_url,\n",
    "        \"text\": text,\n",
    "        \"language\": language,\n",
    "        \"speed\": speed,\n",
    "        \"pitch\": pitch\n",
    "    }\n",
    "\n",
    "    # Run the model on Replicate\n",
    "    output = replicate.run(\n",
    "        link,\n",
    "        input=input_data\n",
    "    )\n",
    "    \n",
    "    # Return the generated audio URL\n",
    "    return output"
   ]
  },
  {
   "cell_type": "code",
   "execution_count": 5,
   "id": "221bdeca-bffc-487c-b7d3-d5bb735c528e",
   "metadata": {},
   "outputs": [
    {
     "name": "stdout",
     "output_type": "stream",
     "text": [
      "https://replicate.delivery/yhqm/NyaQ6wBXR9qPJhktYrzaaqliq4uIZEGkIkRKJUZMUUOzoX4E/output.wav\n"
     ]
    }
   ],
   "source": [
    "link = \"lucataco/xtts-v2:684bc3855b37866c0c65add2ff39c78f3dea3f4ff103a436465326e0f438d55e\"\n",
    "output_url = generate_tts(text=inputs[\"hi\"], language=\"hi\", speaker_type=\"male\", link=link)\n",
    "print(output_url)"
   ]
  },
  {
   "cell_type": "markdown",
   "id": "e4d5ce85-dbc7-414a-b07b-309b86ce443d",
   "metadata": {},
   "source": [
    "# styletts2\n",
    "Not multilingual\n",
    "\n",
    "https://replicate.com/adirik/styletts2"
   ]
  },
  {
   "cell_type": "code",
   "execution_count": 6,
   "id": "2ae2a56d-736b-45f9-b857-e446e3ba2473",
   "metadata": {},
   "outputs": [
    {
     "name": "stdout",
     "output_type": "stream",
     "text": [
      "Generated audio URL: https://replicate.delivery/czjl/XDW0R1RdZvpSNdYi8MP5oy1WYeNlqzP9lYd7HL5NZnPjwtwJA/out.mp3\n"
     ]
    }
   ],
   "source": [
    "def generate_style_tts(text, embedding_scale=1.0, model_link=\"adirik/styletts2:989cb5ea6d2401314eb30685740cb9f6fd1c9001b8940659b406f952837ab5ac\"):\n",
    "    \"\"\"Generates TTS using the StyleTTS model.\"\"\"\n",
    "    \n",
    "    # Prepare the input data\n",
    "    input_data = {\n",
    "        \"text\": text,\n",
    "        \"embedding_scale\": embedding_scale\n",
    "    }\n",
    "    \n",
    "    # Run the model on Replicate\n",
    "    output = replicate.run(model_link, input=input_data)\n",
    "    \n",
    "    # Return the generated audio URL\n",
    "    return output\n",
    "\n",
    "# Example usage\n",
    "text_input = \"StyleTTS 2 is a text-to-speech model that leverages style diffusion and adversarial training with large speech language models to achieve human-level text-to-speech synthesis.\"\n",
    "embedding_scale_input = 1.5\n",
    "\n",
    "# Generate TTS\n",
    "try:\n",
    "    output_url = generate_style_tts(text=text_input, embedding_scale=embedding_scale_input)\n",
    "    print(f\"Generated audio URL: {output_url}\")\n",
    "except Exception as e:\n",
    "    print(f\"An error occurred: {e}\")\n"
   ]
  },
  {
   "cell_type": "markdown",
   "id": "e035a7c3-32f5-4942-b0ca-738a15679a7a",
   "metadata": {},
   "source": [
    "# Bark\n",
    "English, German, Spanish, French, Hindi, Italian, Japanese, Korean, Polish, Portuguese, Russian, Turkish, Chinese (simplified)\n",
    "\n",
    "https://replicate.com/suno-ai/bark"
   ]
  },
  {
   "cell_type": "code",
   "execution_count": 15,
   "id": "4b97f6d9-b170-417c-ad6b-aaeb72f473d2",
   "metadata": {},
   "outputs": [
    {
     "name": "stdout",
     "output_type": "stream",
     "text": [
      "Generated Audio URL: {'audio_out': 'https://replicate.delivery/czjl/DIteiwHazCSAT6ncMKToNkMuXllVQd0ueRmEKvkR7zavf7CnA/audio.wav'}\n"
     ]
    }
   ],
   "source": [
    "import replicate\n",
    "\n",
    "# Function to generate audio with Bark TTS using custom inputs\n",
    "def generate_bark_audio(prompt, text_temp=0.7, waveform_temp=0.7, history_prompt=\"en_speaker_0\", custom_history_prompt=None, output_full=False):\n",
    "    \"\"\"\n",
    "    Generate speech using Bark TTS model with custom input parameters.\n",
    "    \n",
    "    Args:\n",
    "    prompt (str): Text prompt for speech synthesis.\n",
    "    text_temp (float): Temperature for text generation (diversity of speech output).\n",
    "    waveform_temp (float): Temperature for waveform generation.\n",
    "    history_prompt (str): Preset speaker choice (e.g., en_speaker_0, hi_speaker_1).\n",
    "    custom_history_prompt (str): URL to a custom .npz file for history cloning (optional).\n",
    "    output_full (bool): If True, returns a full generation file for future use.\n",
    "    \n",
    "    Returns:\n",
    "    str: URL to the generated audio.\n",
    "    \"\"\"\n",
    "    \n",
    "    # Construct the input payload\n",
    "    input_data = {\n",
    "        \"prompt\": prompt,\n",
    "        \"text_temp\": text_temp,\n",
    "        \"waveform_temp\": waveform_temp,\n",
    "        \"history_prompt\": history_prompt,\n",
    "        \"output_full\": output_full\n",
    "    }\n",
    "    \n",
    "    # If custom history prompt is provided, override the default history_prompt\n",
    "    if custom_history_prompt:\n",
    "        input_data[\"custom_history_prompt\"] = custom_history_prompt\n",
    "    \n",
    "    # Run the model on Replicate\n",
    "    output = replicate.run(\n",
    "        \"suno-ai/bark:b76242b40d67c76ab6742e987628a2a9ac019e11d56ab96c4e91ce03b79b2787\", \n",
    "        input=input_data\n",
    "    )\n",
    "    \n",
    "    # Return the output URL for generated audio\n",
    "    return output\n",
    "\n",
    "# Example usage\n",
    "prompt = inputs[\"hi\"]\n",
    "history_prompt = \"hi_speaker_3\"  # Change this based on speaker preference (en_speaker_0, hi_speaker_1, etc.)\n",
    "output_url = generate_bark_audio(prompt, history_prompt=history_prompt)\n",
    "\n",
    "print(f\"Generated Audio URL: {output_url}\")\n"
   ]
  },
  {
   "cell_type": "markdown",
   "id": "9178cc45-7d13-4a28-85c0-7d35789bdb18",
   "metadata": {},
   "source": [
    "# tortoise-\n",
    "Engilsh, but can leverage custom voice arg to generate other languages but its not so good\n",
    "\n",
    "https://replicate.com/afiaka87/tortoise-tts"
   ]
  },
  {
   "cell_type": "code",
   "execution_count": 6,
   "id": "ba875197-7144-4e9e-b680-0e64f9c35521",
   "metadata": {},
   "outputs": [
    {
     "name": "stdout",
     "output_type": "stream",
     "text": [
      "https://replicate.delivery/czjl/vf8pAtixEjVfEkU50iiR7ev0ma7yKIjxacYLPDgZVEdda9CnA/tortoise.mp3\n"
     ]
    }
   ],
   "source": [
    "import replicate\n",
    "\n",
    "def generate_custom_tts(text, voice_a=\"random\", voice_b=\"disabled\", voice_c=\"disabled\", preset=\"fast\", seed=0, cvvp_amount=0):\n",
    "    input_data = {\n",
    "        \"text\": text,\n",
    "        \"voice_a\": voice_a,\n",
    "        \"voice_b\": voice_b,\n",
    "        \"voice_c\": voice_c,\n",
    "        \"preset\": preset,\n",
    "        \"seed\": seed,\n",
    "        \"cvvp_amount\": cvvp_amount\n",
    "    }\n",
    "    \n",
    "    # Call the Tortoise TTS model on Replicate\n",
    "    output = replicate.run(\n",
    "        \"afiaka87/tortoise-tts:e9658de4b325863c4fcdc12d94bb7c9b54cbfe351b7ca1b36860008172b91c71\",\n",
    "        input=input_data\n",
    "    )\n",
    "\n",
    "    return output\n",
    "\n",
    "# Example usage:\n",
    "output_url = generate_custom_tts(\n",
    "    text=\"The expressiveness of autoregressive transformers is literally nuts! I absolutely adore them.\",\n",
    "    voice_a=\"random\",\n",
    "    preset=\"fast\"\n",
    ")\n",
    "print(output_url)\n"
   ]
  },
  {
   "cell_type": "markdown",
   "id": "61745906-3b5a-4d66-9d27-16bde184d927",
   "metadata": {},
   "source": [
    "# neon tts\n",
    "English, Spanish, French, German, Italian, Polish, Ukrainian, Dutch, Romanian, Hungarian, Greek, Czech, Swedish, Portuguese, Croatian, Bulgarian, Danish, Slovak, Finnish, Lithuanian, Slovenian, Latvian, Estonian, Irish, Maltese\n",
    "\n",
    "https://replicate.com/awerks/neon-tts"
   ]
  },
  {
   "cell_type": "code",
   "execution_count": 9,
   "id": "28964cb5-ce1b-4822-a231-d7303a182d03",
   "metadata": {},
   "outputs": [
    {
     "name": "stdout",
     "output_type": "stream",
     "text": [
      "https://replicate.delivery/czjl/D3OBnM6XIrJAOpi9fqThjk5kZJoARnNRDlBBO2PsmN6rovwJA/tmphzqxq0ud.wav\n"
     ]
    }
   ],
   "source": [
    "import replicate\n",
    "\n",
    "def text_to_speech(text: str, language: str = \"en\") -> str:\n",
    "    \"\"\"\n",
    "    Converts the input text to speech using Replicate's Text-to-Speech API.\n",
    "    \n",
    "    Parameters:\n",
    "    text (str): The text to be converted to speech.\n",
    "    language (str): The language of the text. Defaults to \"en\" (English).\n",
    "    \n",
    "    Returns:\n",
    "    str: The URL of the generated speech audio file.\n",
    "    \"\"\"\n",
    "    \n",
    "    # List of supported languages\n",
    "    supported_languages = [\n",
    "        \"en\", \"es\", \"fr\", \"de\", \"it\", \"pl\", \"uk\", \"nl\", \"ro\", \"hu\", \"el\", \n",
    "        \"cs\", \"sv\", \"pt\", \"bg\", \"hr\", \"da\", \"sk\", \"fi\", \"lt\", \"sl\", \"lv\", \n",
    "        \"et\", \"ga\", \"mt\"\n",
    "    ]\n",
    "    \n",
    "    # Check if the provided language is supported\n",
    "    if language not in supported_languages:\n",
    "        raise ValueError(f\"Language '{language}' is not supported. Please choose from: {', '.join(supported_languages)}.\")\n",
    "    \n",
    "    # Set up the input payload\n",
    "    input_payload = {\n",
    "        \"text\": text,\n",
    "        \"language\": language\n",
    "    }\n",
    "    \n",
    "    # Run the model on Replicate\n",
    "    output = replicate.run(\n",
    "        \"awerks/neon-tts:139606fe1536f85a9f07d87982400b8140c9a9673733d47913af96738894128f\",\n",
    "        input=input_payload\n",
    "    )\n",
    "    \n",
    "    # Return the output URL\n",
    "    return output\n",
    "\n",
    "# Example usage:\n",
    "inp = \"hi! my name is digvijay singh bisht. i am am gen AI developer and i am passionate about this feild\"\n",
    "result = text_to_speech(inp, language=\"en\")\n",
    "print(result)  # Outputs the URL of the generated speech file\n"
   ]
  },
  {
   "cell_type": "markdown",
   "id": "3443312e-a30d-4055-b8e7-b0c81dfa314e",
   "metadata": {},
   "source": [
    "# seamless_communication\n",
    "Bengali, Catalan, Czech, Danish, Dutch, English, Estonian, Finnish, French, German, Hindi, Indonesian, Italian, Japanese, Korean, Maltese, Mandarin Chinese, Modern Standard Arabic, Northern Uzbek, Polish, Portuguese, Romanian, Russian, Slovak, Spanish, Swahili, Swedish, Tagalog, Telugu, Thai, Turkish, Ukrainian, Urdu, Vietnamese, Welsh, Western Persian.\n",
    "\n",
    "https://replicate.com/cjwbw/seamless_communication"
   ]
  },
  {
   "cell_type": "code",
   "execution_count": 19,
   "id": "32b12929-c3a8-4552-a777-6e598d0e8cc0",
   "metadata": {},
   "outputs": [
    {
     "name": "stdout",
     "output_type": "stream",
     "text": [
      "{'audio_output': 'https://replicate.delivery/pbxt/uWufWfx2v7kGWkFE7jMzrpDOlsMcig16Ki4Ad7mk8iDQofCnA/out.wav', 'text_output': 'आज रात तारे चमक रहे हैं, जो शांत दुनिया पर एक जादुई चमक बिखेर रही हैं। क्या आपको हवा में शांति महसूस हो रही है?'}\n"
     ]
    }
   ],
   "source": [
    "output = replicate.run(\n",
    "    \"cjwbw/seamless_communication:668a4fec05a887143e5fe8d45df25ec4c794dd43169b9a11562309b2d45873b0\",\n",
    "    input={\n",
    "        \"task_name\": \"T2ST (Text to Speech translation)\",\n",
    "        \"input_text\": inputs[\"hi\"],\n",
    "        \"input_text_language\": \"Hindi\",\n",
    "        \"max_input_audio_length\": 60,\n",
    "        \"target_language_text_only\": \"Norwegian Nynorsk\",\n",
    "        \"target_language_with_speech\": \"Hindi\"\n",
    "    }\n",
    ")\n",
    "print(output)"
   ]
  },
  {
   "cell_type": "markdown",
   "id": "fd455f99-5ffa-42d7-9328-e94d35e77f49",
   "metadata": {},
   "source": [
    "# realistic-voice-cloning : \n",
    "used for music audio dubbing/cloning\n",
    "https://replicate.com/zsxkib/realistic-voice-cloning"
   ]
  },
  {
   "cell_type": "markdown",
   "id": "303d85f3-aef1-4714-a8af-de487229058f",
   "metadata": {},
   "source": [
    "# tango\n",
    "used for generating sound effect https://replicate.com/declare-lab/tango"
   ]
  },
  {
   "cell_type": "code",
   "execution_count": null,
   "id": "0d44c196-8d4d-408d-bd88-9f01ac5e77e9",
   "metadata": {},
   "outputs": [],
   "source": []
  }
 ],
 "metadata": {
  "kernelspec": {
   "display_name": "Python 3 (ipykernel)",
   "language": "python",
   "name": "python3"
  },
  "language_info": {
   "codemirror_mode": {
    "name": "ipython",
    "version": 3
   },
   "file_extension": ".py",
   "mimetype": "text/x-python",
   "name": "python",
   "nbconvert_exporter": "python",
   "pygments_lexer": "ipython3",
   "version": "3.11.7"
  }
 },
 "nbformat": 4,
 "nbformat_minor": 5
}
